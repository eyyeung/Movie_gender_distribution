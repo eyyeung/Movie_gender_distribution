{
 "cells": [
  {
   "cell_type": "code",
   "execution_count": 3,
   "metadata": {},
   "outputs": [],
   "source": [
    "import json\n",
    "import pandas as pd\n",
    "import numpy as np"
   ]
  },
  {
   "cell_type": "code",
   "execution_count": 4,
   "metadata": {},
   "outputs": [],
   "source": [
    "with open('nconsts_dict_J_0_10000.json', 'r') as nconsts_1:\n",
    "    file_1 = nconsts_1.read()\n",
    "json_1 = json.loads(file_1)"
   ]
  },
  {
   "cell_type": "code",
   "execution_count": 5,
   "metadata": {},
   "outputs": [
    {
     "data": {
      "text/plain": [
       "10000"
      ]
     },
     "execution_count": 5,
     "metadata": {},
     "output_type": "execute_result"
    }
   ],
   "source": [
    "len(json_1.keys())"
   ]
  },
  {
   "cell_type": "code",
   "execution_count": 6,
   "metadata": {},
   "outputs": [
    {
     "data": {
      "text/plain": [
       "[{'adult': False,\n",
       "  'gender': 2,\n",
       "  'name': 'William V. Skall',\n",
       "  'id': 17668,\n",
       "  'known_for': [{'id': 1580,\n",
       "    'video': False,\n",
       "    'vote_count': 1363,\n",
       "    'vote_average': 8.0,\n",
       "    'title': 'Rope',\n",
       "    'release_date': '1948-08-26',\n",
       "    'original_language': 'en',\n",
       "    'original_title': 'Rope',\n",
       "    'genre_ids': [80, 53],\n",
       "    'backdrop_path': '/81LX4wktTXWEXjLNlkHTmJm7tRu.jpg',\n",
       "    'adult': False,\n",
       "    'overview': 'Two men attempt to prove they committed the perfect crime by hosting a dinner party after strangling their former classmate to death.',\n",
       "    'poster_path': '/tJlmMbaleBT8IwuidgI0ZvlLbWA.jpg',\n",
       "    'popularity': 10.48,\n",
       "    'media_type': 'movie'},\n",
       "   {'adult': False,\n",
       "    'backdrop_path': '/goyLlBUlfZwbKIJFvPbRmpkKYZ.jpg',\n",
       "    'genre_ids': [18, 36, 10749],\n",
       "    'id': 11620,\n",
       "    'original_language': 'en',\n",
       "    'original_title': 'Quo Vadis',\n",
       "    'overview': \"Set against the back drop of Rome in crisis, General Marcus Vinicius returns to the city from the battle fields and falls in love with a Christian woman, Lygia. Caught in the grip of insanity, Nero's atrocities become more extreme and he burns Rome, laying the blame on the Christians. Vinicius races to save Lygia from the wrath of Nero as the empire of Rome collapses around them.\",\n",
       "    'poster_path': '/205q2KznSETw5MeUHupvusQGXDC.jpg',\n",
       "    'release_date': '1951-11-08',\n",
       "    'title': 'Quo Vadis',\n",
       "    'video': False,\n",
       "    'vote_average': 6.9,\n",
       "    'vote_count': 188,\n",
       "    'popularity': 7.141,\n",
       "    'media_type': 'movie'},\n",
       "   {'id': 26531,\n",
       "    'video': False,\n",
       "    'vote_count': 57,\n",
       "    'vote_average': 7.1,\n",
       "    'title': 'The Little Princess',\n",
       "    'release_date': '1939-03-17',\n",
       "    'original_language': 'en',\n",
       "    'original_title': 'The Little Princess',\n",
       "    'genre_ids': [35, 18, 10751],\n",
       "    'backdrop_path': '/hH4a4d2xzHmEhaWFX9kqTVuAlR7.jpg',\n",
       "    'adult': False,\n",
       "    'overview': 'The classic Shirley Temple film in which a little girl goes in search of her father who is reported missing by the military during the Second Boer War.',\n",
       "    'poster_path': '/qkg4kKNqh1NScZxjXsg4ORkxOUF.jpg',\n",
       "    'popularity': 5.288,\n",
       "    'media_type': 'movie'}],\n",
       "  'known_for_department': 'Camera',\n",
       "  'profile_path': None,\n",
       "  'popularity': 0.6}]"
      ]
     },
     "execution_count": 6,
     "metadata": {},
     "output_type": "execute_result"
    }
   ],
   "source": [
    "json_1['nm0005877']"
   ]
  },
  {
   "cell_type": "code",
   "execution_count": 160,
   "metadata": {},
   "outputs": [],
   "source": [
    "# make the empty database\n",
    "tmdb_table = pd.DataFrame(index=json_1.keys(),columns=['gender', 'name','id','known_for_department','popularity'])"
   ]
  },
  {
   "cell_type": "code",
   "execution_count": 161,
   "metadata": {},
   "outputs": [
    {
     "name": "stdout",
     "output_type": "stream",
     "text": [
      "<class 'dict'>\n",
      "2\n",
      "William V. Skall\n",
      "17668\n",
      "Camera\n",
      "0.6\n"
     ]
    }
   ],
   "source": [
    "for v in json_1['nm0005877']:\n",
    "    print(type(v))\n",
    "    print(v['gender'])\n",
    "    print(v['name'])\n",
    "    print(v['id'])\n",
    "    print(v['known_for_department'])\n",
    "    print(v['popularity'])\n",
    "    tmdb_table.loc['nm0005877']=[v['gender'],v['name'] ,v['id'], v['known_for_department'],v['popularity']]\n",
    "\n",
    "    \n",
    "#tmdb_table = tmdb_table.append({'gender': v['gender'],'name':v['name'] ,'id':v['id'], 'known_for_department': v['known_for_department'],'popularity':v['popularity']}, ignore_index=True)"
   ]
  },
  {
   "cell_type": "code",
   "execution_count": 162,
   "metadata": {},
   "outputs": [],
   "source": [
    "for k in json_1.keys():\n",
    "    for v in json_1[k]:\n",
    "        v['popularity'] = v.get('popularity', \"NaN\")\n",
    "        tmdb_table.loc[k]=[v['gender'],v['name'] ,v['id'], v['known_for_department'],v['popularity']]"
   ]
  },
  {
   "cell_type": "code",
   "execution_count": 163,
   "metadata": {},
   "outputs": [
    {
     "data": {
      "text/plain": [
       "(644, 5)"
      ]
     },
     "execution_count": 163,
     "metadata": {},
     "output_type": "execute_result"
    }
   ],
   "source": [
    "tmdb_table[tmdb_table.isna().any(axis=1)].shape"
   ]
  },
  {
   "cell_type": "code",
   "execution_count": 164,
   "metadata": {},
   "outputs": [],
   "source": [
    "tmdb_table_trunc = tmdb_table.dropna(axis=0,thresh=2)"
   ]
  },
  {
   "cell_type": "code",
   "execution_count": 165,
   "metadata": {},
   "outputs": [
    {
     "data": {
      "text/plain": [
       "(9356, 5)"
      ]
     },
     "execution_count": 165,
     "metadata": {},
     "output_type": "execute_result"
    }
   ],
   "source": [
    "tmdb_table_trunc.shape"
   ]
  },
  {
   "cell_type": "code",
   "execution_count": 166,
   "metadata": {},
   "outputs": [],
   "source": [
    "for i in range(10000,90000,10000):\n",
    "    # substitute the correct number into the name string\n",
    "    with open(\"nconsts_dict_J_%s_%s.json\"%(i,i+10000), 'r') as nconsts:\n",
    "        file_x = nconsts.read()\n",
    "        json_x = json.loads(file_x)\n",
    "    tmdb_table_x = pd.DataFrame(index=json_x.keys(),columns=['gender', 'name','id','known_for_department','popularity'])\n",
    "    for k in json_x.keys():\n",
    "        for v in json_x[k]:\n",
    "            v['popularity'] = v.get('popularity', \"NaN\")\n",
    "            v['known_for_department'] = v.get('known_for_department', \"NaN\")\n",
    "            tmdb_table_x.loc[k]=[v['gender'],v['name'] ,v['id'], v['known_for_department'],v['popularity']]\n",
    "    tmdb_table = tmdb_table.append(tmdb_table_x)"
   ]
  },
  {
   "cell_type": "code",
   "execution_count": 169,
   "metadata": {},
   "outputs": [],
   "source": [
    "with open(\"nconsts_dict_J_90000_91881.json\", 'r') as nconsts:\n",
    "    file_x = nconsts.read()\n",
    "    json_x = json.loads(file_x)\n",
    "tmdb_table_x = pd.DataFrame(index=json_x.keys(),columns=['gender', 'name','id','known_for_department','popularity'])\n",
    "for k in json_x.keys():\n",
    "    for v in json_x[k]:\n",
    "        v['popularity'] = v.get('popularity', \"NaN\")\n",
    "        v['known_for_department'] = v.get('known_for_department', \"NaN\")\n",
    "        tmdb_table_x.loc[k]=[v['gender'],v['name'] ,v['id'], v['known_for_department'],v['popularity']]\n",
    "tmdb_table = tmdb_table.append(tmdb_table_x)"
   ]
  },
  {
   "cell_type": "code",
   "execution_count": 170,
   "metadata": {},
   "outputs": [
    {
     "data": {
      "text/html": [
       "<div>\n",
       "<style scoped>\n",
       "    .dataframe tbody tr th:only-of-type {\n",
       "        vertical-align: middle;\n",
       "    }\n",
       "\n",
       "    .dataframe tbody tr th {\n",
       "        vertical-align: top;\n",
       "    }\n",
       "\n",
       "    .dataframe thead th {\n",
       "        text-align: right;\n",
       "    }\n",
       "</style>\n",
       "<table border=\"1\" class=\"dataframe\">\n",
       "  <thead>\n",
       "    <tr style=\"text-align: right;\">\n",
       "      <th></th>\n",
       "      <th>gender</th>\n",
       "      <th>name</th>\n",
       "      <th>id</th>\n",
       "      <th>known_for_department</th>\n",
       "      <th>popularity</th>\n",
       "    </tr>\n",
       "  </thead>\n",
       "  <tbody>\n",
       "    <tr>\n",
       "      <th>nm0005877</th>\n",
       "      <td>2</td>\n",
       "      <td>William V. Skall</td>\n",
       "      <td>17668</td>\n",
       "      <td>Camera</td>\n",
       "      <td>0.6</td>\n",
       "    </tr>\n",
       "    <tr>\n",
       "      <th>nm0000073</th>\n",
       "      <td>1</td>\n",
       "      <td>Shirley Temple</td>\n",
       "      <td>95624</td>\n",
       "      <td>Acting</td>\n",
       "      <td>2.119</td>\n",
       "    </tr>\n",
       "    <tr>\n",
       "      <th>nm0000859</th>\n",
       "      <td>2</td>\n",
       "      <td>Lionel Barrymore</td>\n",
       "      <td>17753</td>\n",
       "      <td>Acting</td>\n",
       "      <td>1.661</td>\n",
       "    </tr>\n",
       "    <tr>\n",
       "      <th>nm0892867</th>\n",
       "      <td>1</td>\n",
       "      <td>Evelyn Venable</td>\n",
       "      <td>117073</td>\n",
       "      <td>Acting</td>\n",
       "      <td>2.372</td>\n",
       "    </tr>\n",
       "    <tr>\n",
       "      <th>nm0517099</th>\n",
       "      <td>0</td>\n",
       "      <td>John Lodge</td>\n",
       "      <td>133470</td>\n",
       "      <td>Acting</td>\n",
       "      <td>1.708</td>\n",
       "    </tr>\n",
       "  </tbody>\n",
       "</table>\n",
       "</div>"
      ],
      "text/plain": [
       "          gender              name      id known_for_department popularity\n",
       "nm0005877      2  William V. Skall   17668               Camera        0.6\n",
       "nm0000073      1    Shirley Temple   95624               Acting      2.119\n",
       "nm0000859      2  Lionel Barrymore   17753               Acting      1.661\n",
       "nm0892867      1    Evelyn Venable  117073               Acting      2.372\n",
       "nm0517099      0        John Lodge  133470               Acting      1.708"
      ]
     },
     "execution_count": 170,
     "metadata": {},
     "output_type": "execute_result"
    }
   ],
   "source": [
    "tmdb_table.head()"
   ]
  },
  {
   "cell_type": "code",
   "execution_count": 171,
   "metadata": {},
   "outputs": [
    {
     "data": {
      "text/plain": [
       "(91881, 5)"
      ]
     },
     "execution_count": 171,
     "metadata": {},
     "output_type": "execute_result"
    }
   ],
   "source": [
    "tmdb_table.shape"
   ]
  },
  {
   "cell_type": "code",
   "execution_count": 172,
   "metadata": {},
   "outputs": [
    {
     "name": "stdout",
     "output_type": "stream",
     "text": [
      "(18276, 5)\n",
      "(18265, 5)\n"
     ]
    }
   ],
   "source": [
    "print(tmdb_table[tmdb_table.isna().any(axis=1)].shape)\n",
    "print(tmdb_table[tmdb_table['popularity'].isna()].shape)"
   ]
  },
  {
   "cell_type": "code",
   "execution_count": 173,
   "metadata": {},
   "outputs": [
    {
     "name": "stdout",
     "output_type": "stream",
     "text": [
      "(73616, 5)\n"
     ]
    }
   ],
   "source": [
    "tmdb_table_trunc = tmdb_table.dropna(axis=0,thresh=2)\n",
    "print(tmdb_table_trunc.shape)"
   ]
  },
  {
   "cell_type": "code",
   "execution_count": 178,
   "metadata": {},
   "outputs": [
    {
     "data": {
      "text/html": [
       "<div>\n",
       "<style scoped>\n",
       "    .dataframe tbody tr th:only-of-type {\n",
       "        vertical-align: middle;\n",
       "    }\n",
       "\n",
       "    .dataframe tbody tr th {\n",
       "        vertical-align: top;\n",
       "    }\n",
       "\n",
       "    .dataframe thead th {\n",
       "        text-align: right;\n",
       "    }\n",
       "</style>\n",
       "<table border=\"1\" class=\"dataframe\">\n",
       "  <thead>\n",
       "    <tr style=\"text-align: right;\">\n",
       "      <th></th>\n",
       "      <th>gender</th>\n",
       "      <th>name</th>\n",
       "      <th>id</th>\n",
       "      <th>known_for_department</th>\n",
       "      <th>popularity</th>\n",
       "    </tr>\n",
       "  </thead>\n",
       "  <tbody>\n",
       "    <tr>\n",
       "      <th>nm0005877</th>\n",
       "      <td>2</td>\n",
       "      <td>William V. Skall</td>\n",
       "      <td>17668</td>\n",
       "      <td>Camera</td>\n",
       "      <td>0.6</td>\n",
       "    </tr>\n",
       "    <tr>\n",
       "      <th>nm0000073</th>\n",
       "      <td>1</td>\n",
       "      <td>Shirley Temple</td>\n",
       "      <td>95624</td>\n",
       "      <td>Acting</td>\n",
       "      <td>2.119</td>\n",
       "    </tr>\n",
       "    <tr>\n",
       "      <th>nm0000859</th>\n",
       "      <td>2</td>\n",
       "      <td>Lionel Barrymore</td>\n",
       "      <td>17753</td>\n",
       "      <td>Acting</td>\n",
       "      <td>1.661</td>\n",
       "    </tr>\n",
       "    <tr>\n",
       "      <th>nm0892867</th>\n",
       "      <td>1</td>\n",
       "      <td>Evelyn Venable</td>\n",
       "      <td>117073</td>\n",
       "      <td>Acting</td>\n",
       "      <td>2.372</td>\n",
       "    </tr>\n",
       "    <tr>\n",
       "      <th>nm0517099</th>\n",
       "      <td>0</td>\n",
       "      <td>John Lodge</td>\n",
       "      <td>133470</td>\n",
       "      <td>Acting</td>\n",
       "      <td>1.708</td>\n",
       "    </tr>\n",
       "  </tbody>\n",
       "</table>\n",
       "</div>"
      ],
      "text/plain": [
       "          gender              name      id known_for_department popularity\n",
       "nm0005877      2  William V. Skall   17668               Camera        0.6\n",
       "nm0000073      1    Shirley Temple   95624               Acting      2.119\n",
       "nm0000859      2  Lionel Barrymore   17753               Acting      1.661\n",
       "nm0892867      1    Evelyn Venable  117073               Acting      2.372\n",
       "nm0517099      0        John Lodge  133470               Acting      1.708"
      ]
     },
     "execution_count": 178,
     "metadata": {},
     "output_type": "execute_result"
    }
   ],
   "source": [
    "tmdb_table_trunc.head()"
   ]
  },
  {
   "cell_type": "code",
   "execution_count": 179,
   "metadata": {},
   "outputs": [],
   "source": [
    "tmdb_table_trunc.to_csv('tmdb_people.csv')"
   ]
  },
  {
   "cell_type": "code",
   "execution_count": null,
   "metadata": {},
   "outputs": [],
   "source": []
  }
 ],
 "metadata": {
  "kernelspec": {
   "display_name": "Python 3",
   "language": "python",
   "name": "python3"
  },
  "language_info": {
   "codemirror_mode": {
    "name": "ipython",
    "version": 3
   },
   "file_extension": ".py",
   "mimetype": "text/x-python",
   "name": "python",
   "nbconvert_exporter": "python",
   "pygments_lexer": "ipython3",
   "version": "3.7.6"
  }
 },
 "nbformat": 4,
 "nbformat_minor": 4
}
